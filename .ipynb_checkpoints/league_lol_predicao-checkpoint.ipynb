{
 "cells": [
  {
   "cell_type": "markdown",
   "id": "d3adeb40",
   "metadata": {},
   "source": [
    "# Projeto: Predição de Vitória no League of Legends (10 min)\n",
    "\n",
    "Neste projeto, usamos um dataset do Kaggle com estatísticas dos primeiros 10 minutos de partidas ranqueadas no LoL para prever a vitória do time azul."
   ]
  },
  {
   "cell_type": "code",
   "execution_count": null,
   "id": "676296b8",
   "metadata": {},
   "outputs": [],
   "source": [
    "import pandas as pd\n",
    "import seaborn as sns\n",
    "import matplotlib.pyplot as plt\n",
    "from sklearn.model_selection import train_test_split\n",
    "from sklearn.tree import DecisionTreeClassifier, plot_tree\n",
    "from sklearn.metrics import classification_report, confusion_matrix, accuracy_score\n",
    "from sklearn.preprocessing import StandardScaler"
   ]
  },
  {
   "cell_type": "markdown",
   "id": "6d161fc2",
   "metadata": {},
   "source": [
    "### Carregar e visualizar o dataset"
   ]
  },
  {
   "cell_type": "code",
   "execution_count": null,
   "id": "06f89a03",
   "metadata": {},
   "outputs": [],
   "source": [
    "df = pd.read_csv(\"high_diamond_ranked_10min.csv\")\n",
    "df.head()"
   ]
  },
  {
   "cell_type": "markdown",
   "id": "1292dd66",
   "metadata": {},
   "source": [
    "### Selecionar variáveis preditoras e alvo"
   ]
  },
  {
   "cell_type": "code",
   "execution_count": null,
   "id": "ccb3820c",
   "metadata": {},
   "outputs": [],
   "source": [
    "X = df.drop(columns=[\"gameId\", \"blueWins\"])\n",
    "y = df[\"blueWins\"]"
   ]
  },
  {
   "cell_type": "markdown",
   "id": "2b1d67e8",
   "metadata": {},
   "source": [
    "### Dividir dados em treino e teste"
   ]
  },
  {
   "cell_type": "code",
   "execution_count": null,
   "id": "9785302f",
   "metadata": {},
   "outputs": [],
   "source": [
    "X_train, X_test, y_train, y_test = train_test_split(X, y, test_size=0.2, random_state=42)"
   ]
  },
  {
   "cell_type": "markdown",
   "id": "d63f379d",
   "metadata": {},
   "source": [
    "### Padronizar os dados"
   ]
  },
  {
   "cell_type": "code",
   "execution_count": null,
   "id": "990b2742",
   "metadata": {},
   "outputs": [],
   "source": [
    "scaler = StandardScaler()\n",
    "X_train_scaled = scaler.fit_transform(X_train)\n",
    "X_test_scaled = scaler.transform(X_test)"
   ]
  },
  {
   "cell_type": "markdown",
   "id": "a3ffd849",
   "metadata": {},
   "source": [
    "### Treinar modelo de Árvore de Decisão"
   ]
  },
  {
   "cell_type": "code",
   "execution_count": null,
   "id": "e133ce86",
   "metadata": {},
   "outputs": [],
   "source": [
    "model = DecisionTreeClassifier(random_state=42, max_depth=5)\n",
    "model.fit(X_train_scaled, y_train)"
   ]
  },
  {
   "cell_type": "markdown",
   "id": "9dcff036",
   "metadata": {},
   "source": [
    "### Avaliar modelo"
   ]
  },
  {
   "cell_type": "code",
   "execution_count": null,
   "id": "1c1c5b07",
   "metadata": {},
   "outputs": [],
   "source": [
    "y_pred = model.predict(X_test_scaled)\n",
    "print(\"Acurácia:\", accuracy_score(y_test, y_pred))\n",
    "print(\"Matriz de confusão:\\n\", confusion_matrix(y_test, y_pred))\n",
    "print(\"Relatório:\\n\", classification_report(y_test, y_pred))"
   ]
  },
  {
   "cell_type": "markdown",
   "id": "a6838f18",
   "metadata": {},
   "source": [
    "### Importância das variáveis"
   ]
  },
  {
   "cell_type": "code",
   "execution_count": null,
   "id": "b463163c",
   "metadata": {},
   "outputs": [],
   "source": [
    "importances = pd.Series(model.feature_importances_, index=X.columns)\n",
    "importances = importances.sort_values(ascending=False).head(10)\n",
    "importances.plot(kind=\"barh\", title=\"Top 10 - Importância das variáveis\")\n",
    "plt.show()"
   ]
  },
  {
   "cell_type": "markdown",
   "id": "57f27ed1",
   "metadata": {},
   "source": [
    "### Visualização da árvore de decisão"
   ]
  },
  {
   "cell_type": "code",
   "execution_count": null,
   "id": "0d2ea891",
   "metadata": {},
   "outputs": [],
   "source": [
    "plt.figure(figsize=(20, 10))\n",
    "plot_tree(model, feature_names=X.columns, class_names=[\"Red Wins\", \"Blue Wins\"], filled=True, max_depth=3)\n",
    "plt.title(\"Árvore de Decisão - Predição de Vitória Azul\")\n",
    "plt.show()"
   ]
  }
 ],
 "metadata": {},
 "nbformat": 4,
 "nbformat_minor": 5
}